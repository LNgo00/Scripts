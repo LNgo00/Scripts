{
 "cells": [
  {
   "cell_type": "code",
   "execution_count": 4,
   "id": "9f989e3b",
   "metadata": {},
   "outputs": [],
   "source": [
    "import pandas as pd\n",
    "from datetime import datetime, timedelta\n",
    "\n",
    "historical_data_df = pd.read_csv('historicalData2020_2021.csv')"
   ]
  },
  {
   "cell_type": "code",
   "execution_count": 5,
   "id": "b42308f0",
   "metadata": {},
   "outputs": [
    {
     "name": "stdout",
     "output_type": "stream",
     "text": [
      "[datetime.datetime(2020, 1, 4, 0, 0), datetime.datetime(2020, 1, 5, 0, 0), datetime.datetime(2020, 1, 6, 0, 0), datetime.datetime(2020, 1, 7, 0, 0)]\n"
     ]
    }
   ],
   "source": [
    "\n",
    "list_projects_slugs = ['kusama','ultra','helium','theta-token','binancecoin','thorchain','okb','metadium','cardano','klay-token',\n",
    "                'gemini-dollar','melon','reserve-rights-token','origintrail','unibright','true-usd','harmony','quant-network','uquid-coin']\n",
    "\n",
    "\n",
    "def create_datetime_list(datetime_from, num_weeks):\n",
    "    list_datetime_result = []\n",
    "    for i in range(1,num_weeks):\n",
    "        datetime_result = datetime_from + timedelta(i*7)\n",
    "        list_datetime_result.append(datetime_result)\n",
    "    return list_datetime_result\n",
    "\n",
    "datetime_from = datetime(year=2020,month=1,day=4)\n",
    "res = create_datetime_list(datetime_from,4)\n",
    "print(res)\n",
    "\n",
    "\n",
    "def create_custom_df_using_historical(list_projects,datetime_list,historical_data_df):\n",
    "    ..."
   ]
  },
  {
   "cell_type": "code",
   "execution_count": null,
   "id": "7cd2442e",
   "metadata": {},
   "outputs": [],
   "source": []
  }
 ],
 "metadata": {
  "kernelspec": {
   "display_name": "Python 3",
   "language": "python",
   "name": "python3"
  },
  "language_info": {
   "codemirror_mode": {
    "name": "ipython",
    "version": 3
   },
   "file_extension": ".py",
   "mimetype": "text/x-python",
   "name": "python",
   "nbconvert_exporter": "python",
   "pygments_lexer": "ipython3",
   "version": "3.8.8"
  }
 },
 "nbformat": 4,
 "nbformat_minor": 5
}
